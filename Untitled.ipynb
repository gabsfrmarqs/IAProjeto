{
 "cells": [
  {
   "cell_type": "code",
   "execution_count": 1,
   "id": "e3348548-8dc6-4444-b4f4-031673236572",
   "metadata": {},
   "outputs": [
    {
     "name": "stdout",
     "output_type": "stream",
     "text": [
      "RMSE: 1177379.5072550725\n",
      "R-squared: 0.9973243302364824\n"
     ]
    }
   ],
   "source": [
    "import pandas as pd\n",
    "import numpy as np\n",
    "from sklearn.model_selection import train_test_split\n",
    "from sklearn.preprocessing import StandardScaler, OneHotEncoder\n",
    "from sklearn.compose import ColumnTransformer\n",
    "from sklearn.pipeline import Pipeline\n",
    "from sklearn.impute import SimpleImputer\n",
    "from sklearn.ensemble import RandomForestRegressor\n",
    "from sklearn.metrics import mean_squared_error, r2_score\n",
    "\n",
    "# 1. Carregar o Dataset\n",
    "try:\n",
    "    df = pd.read_csv(\"Steam_2024_bestRevenue_1500.csv\")  # Nome correto do arquivo\n",
    "except FileNotFoundError:\n",
    "    print(\"Arquivo não encontrado. Certifique-se de que 'Steam_2024_bestRevenue_1500.csv' está no mesmo diretório.\")\n",
    "    exit()\n",
    "\n",
    "\n",
    "\n",
    "# 2. Limpeza e Pré-processamento\n",
    "\n",
    "# Converter 'releaseDate' para datetime e extrair o ano\n",
    "df['releaseDate'] = pd.to_datetime(df['releaseDate'], errors='coerce')\n",
    "df['Release Year'] = df['releaseDate'].dt.year\n",
    "\n",
    "# Converter publisherClass para string\n",
    "df['publisherClass'] = df['publisherClass'].astype(str)\n",
    "\n",
    "# Selecionar colunas relevantes e criar/transformar features\n",
    "df = df[['name', 'revenue', 'price', 'copiesSold', 'avgPlaytime', 'reviewScore', 'publisherClass','Release Year']] # 'steamId' pode ser útil como ID, mas não como feature\n",
    "df.rename(columns={'revenue': 'Revenue'}, inplace=True) # Padronizar nome da coluna alvo\n",
    "\n",
    "\n",
    "# 3. Tratar valores faltantes (imputação com a mediana para numéricas, mais frequente para categóricas)\n",
    "\n",
    "numerical_features = ['price', 'copiesSold', 'avgPlaytime', 'reviewScore', 'Release Year']\n",
    "categorical_features = ['publisherClass']\n",
    "\n",
    "numeric_transformer = Pipeline(steps=[\n",
    "    ('imputer', SimpleImputer(strategy='median')),\n",
    "    ('scaler', StandardScaler())\n",
    "])\n",
    "\n",
    "categorical_transformer = Pipeline(steps=[\n",
    "    ('imputer', SimpleImputer(strategy='most_frequent')),\n",
    "    ('onehot', OneHotEncoder(handle_unknown='ignore'))\n",
    "])\n",
    "\n",
    "\n",
    "# 4. Dividir em Treino e Teste (antes do pré-processamento final)\n",
    "X = df.drop('Revenue', axis=1)\n",
    "y = df['Revenue']\n",
    "X_train, X_test, y_train, y_test = train_test_split(X, y, test_size=0.2, random_state=42)\n",
    "\n",
    "# Armazenar os nomes dos jogos ANTES do pré-processamento\n",
    "X_train_names = X_train['name']\n",
    "X_test_names = X_test['name']\n",
    "\n",
    "# Remover a coluna 'name' do X_train e X_test para o treinamento do modelo\n",
    "X_train = X_train.drop('name', axis=1)\n",
    "X_test = X_test.drop('name', axis=1)\n",
    "\n",
    "\n",
    "# 5. Pré-processamento com ColumnTransformer (após a divisão treino/teste)\n",
    "preprocessor = ColumnTransformer(\n",
    "    transformers=[\n",
    "        ('num', numeric_transformer, numerical_features),\n",
    "        ('cat', categorical_transformer, categorical_features)\n",
    "    ])\n",
    "\n",
    "# 6. Pipeline do Modelo\n",
    "model = Pipeline(steps=[('preprocessor', preprocessor),\n",
    "                           ('regressor', RandomForestRegressor(random_state=42))])\n",
    "\n",
    "# 7. Treinar o Modelo\n",
    "model.fit(X_train, y_train)\n",
    "\n",
    "\n",
    "# 8. Avaliar o Modelo\n",
    "y_pred = model.predict(X_test)\n",
    "\n",
    "# Criar DataFrames com as previsões e os nomes dos jogos para o conjunto de teste\n",
    "test_comparison = pd.DataFrame({'name': X_test_names, 'Real': y_test, 'Previsto': y_pred})\n",
    "test_comparison = pd.merge(test_comparison, X_test, on=X_test.index).drop(columns=['key_0']).reset_index(drop=True) # Usar .index como chave\n",
    "\n",
    "\n",
    "y_train_pred = model.predict(X_train)\n",
    "# Criar DataFrames com as previsões e os nomes dos jogos para o conjunto de treino\n",
    "train_comparison = pd.DataFrame({'name': X_train_names, 'Real': y_train, 'Previsto': y_train_pred})\n",
    "train_comparison = pd.merge(train_comparison, X_train, on=X_train.index).drop(columns=['key_0']).reset_index(drop=True)  # Usar .index como chave\n",
    "\n",
    "\n",
    "\n",
    "rmse = np.sqrt(mean_squared_error(y_test, y_pred))\n",
    "r2 = r2_score(y_test, y_pred)\n",
    "\n",
    "print(f\"RMSE: {rmse}\")\n",
    "print(f\"R-squared: {r2}\")"
   ]
  },
  {
   "cell_type": "markdown",
   "id": "28867a32-4be6-4e65-84d6-af779276fd54",
   "metadata": {},
   "source": [
    "RMSE: 1177379.5072550725\n",
    "R-squared: 0.9973243302364824"
   ]
  },
  {
   "cell_type": "code",
   "execution_count": 2,
   "id": "723c0d7b-d7f3-4e71-85e1-33f98ec85048",
   "metadata": {},
   "outputs": [
    {
     "name": "stdout",
     "output_type": "stream",
     "text": [
      "\n",
      "Dados de Treino (Amostra):\n",
      "                                 name      Real   Previsto  price  copiesSold  \\\n",
      "875                       New Star GP  286736.0  314823.34  29.99       16009   \n",
      "111                  Old School Rally  105556.0   93887.36   9.99       12741   \n",
      "475                           Abathor   31842.0   31445.81  14.99        2593   \n",
      "1001                        CONSCRIPT  309785.0  311599.36  19.99       17794   \n",
      "565   BROKE PROTOCOL: Online City RPG  183531.0  392326.55   9.99       98931   \n",
      "\n",
      "      avgPlaytime  reviewScore publisherClass  Release Year  \n",
      "875      8.869371            0          Indie        2024.0  \n",
      "111      3.332885           93          Indie           NaN  \n",
      "475      5.040102           91          Indie           NaN  \n",
      "1001     8.943198           95             AA           NaN  \n",
      "565      9.725359           75          Indie           NaN  \n"
     ]
    }
   ],
   "source": [
    "print(\"\\nDados de Treino (Amostra):\")\n",
    "print(train_comparison.sample(5))"
   ]
  },
  {
   "cell_type": "code",
   "execution_count": 3,
   "id": "55e75a46-0067-4f1c-8e4a-ce949917538b",
   "metadata": {},
   "outputs": [
    {
     "name": "stdout",
     "output_type": "stream",
     "text": [
      "\n",
      "Dados de Teste (Amostra):\n",
      "                                   name          Real      Previsto  price  \\\n",
      "151                    Gym Simulator 24  8.843300e+05  7.846235e+05  10.99   \n",
      "296        Cats Hidden Around the World  3.952700e+04  4.323314e+04   4.99   \n",
      "101                        Sex Faculty🔞  4.666800e+04  5.761442e+04   9.99   \n",
      "60                               ReRoad  5.544000e+04  4.518083e+04  14.99   \n",
      "248  Yi Xian: The Cultivation Card Game  1.039161e+06  1.568522e+06   0.00   \n",
      "\n",
      "     copiesSold  avgPlaytime  reviewScore publisherClass  Release Year  \n",
      "151      109135     4.271517           90          Indie           NaN  \n",
      "296       10740     2.280300           97          Indie        2024.0  \n",
      "101        7182     1.886637           76          Indie        2024.0  \n",
      "60         4185     5.110954           78          Indie           NaN  \n",
      "248      286872    55.016630           75             AA           NaN  \n"
     ]
    }
   ],
   "source": [
    "print(\"\\nDados de Teste (Amostra):\")\n",
    "print(test_comparison.sample(5))"
   ]
  },
  {
   "cell_type": "code",
   "execution_count": 4,
   "id": "fb768d3c-4db6-4cfd-bdcf-6f9df9a68b33",
   "metadata": {},
   "outputs": [
    {
     "ename": "SyntaxError",
     "evalue": "unterminated string literal (detected at line 2) (1584419061.py, line 2)",
     "output_type": "error",
     "traceback": [
      "\u001b[1;36m  Cell \u001b[1;32mIn[4], line 2\u001b[1;36m\u001b[0m\n\u001b[1;33m    nome_jogo = \"\tname\u001b[0m\n\u001b[1;37m                ^\u001b[0m\n\u001b[1;31mSyntaxError\u001b[0m\u001b[1;31m:\u001b[0m unterminated string literal (detected at line 2)\n"
     ]
    }
   ],
   "source": [
    "# Solicitar o nome do jogo ao usuário\n",
    "nome_jogo = \"Hades II\"\n",
    "\n",
    "# Buscar o jogo no conjunto de treino\n",
    "jogo_treino = train_comparison[train_comparison['name'] == nome_jogo]\n",
    "\n",
    "# Buscar o jogo no conjunto de teste\n",
    "jogo_teste = test_comparison[test_comparison['name'] == nome_jogo]\n",
    "\n",
    "# Imprimir os resultados\n",
    "if not jogo_treino.empty:\n",
    "    print(\"\\nJogo encontrado no conjunto de TREINO:\")\n",
    "    print(jogo_treino)\n",
    "elif not jogo_teste.empty:\n",
    "    print(\"\\nJogo encontrado no conjunto de TESTE:\")\n",
    "    print(jogo_teste)\n",
    "else:\n",
    "    print(\"\\nJogo não encontrado nos conjuntos de treino ou teste.\")"
   ]
  }
 ],
 "metadata": {
  "kernelspec": {
   "display_name": "Python 3 (ipykernel)",
   "language": "python",
   "name": "python3"
  },
  "language_info": {
   "codemirror_mode": {
    "name": "ipython",
    "version": 3
   },
   "file_extension": ".py",
   "mimetype": "text/x-python",
   "name": "python",
   "nbconvert_exporter": "python",
   "pygments_lexer": "ipython3",
   "version": "3.10.6"
  }
 },
 "nbformat": 4,
 "nbformat_minor": 5
}
