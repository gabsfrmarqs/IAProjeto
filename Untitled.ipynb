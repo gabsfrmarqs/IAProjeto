{
 "cells": [
  {
   "cell_type": "code",
   "execution_count": 1,
   "id": "e3348548-8dc6-4444-b4f4-031673236572",
   "metadata": {},
   "outputs": [
    {
     "name": "stdout",
     "output_type": "stream",
     "text": [
      "RMSE: 1177379.5072550725\n",
      "R-squared: 0.9973243302364824\n"
     ]
    }
   ],
   "source": [
    "import pandas as pd\n",
    "import numpy as np\n",
    "from sklearn.model_selection import train_test_split\n",
    "from sklearn.preprocessing import StandardScaler, OneHotEncoder\n",
    "from sklearn.compose import ColumnTransformer\n",
    "from sklearn.pipeline import Pipeline\n",
    "from sklearn.impute import SimpleImputer\n",
    "from sklearn.ensemble import RandomForestRegressor\n",
    "from sklearn.metrics import mean_squared_error, r2_score\n",
    "\n",
    "# 1. Carregar o Dataset\n",
    "try:\n",
    "    df = pd.read_csv(\"Steam_2024_bestRevenue_1500.csv\")  # Nome correto do arquivo\n",
    "except FileNotFoundError:\n",
    "    print(\"Arquivo não encontrado. Certifique-se de que 'Steam_2024_bestRevenue_1500.csv' está no mesmo diretório.\")\n",
    "    exit()\n",
    "\n",
    "\n",
    "\n",
    "# 2. Limpeza e Pré-processamento\n",
    "\n",
    "# Converter 'releaseDate' para datetime e extrair o ano\n",
    "df['releaseDate'] = pd.to_datetime(df['releaseDate'], errors='coerce')\n",
    "df['Release Year'] = df['releaseDate'].dt.year\n",
    "\n",
    "# Converter publisherClass para string\n",
    "df['publisherClass'] = df['publisherClass'].astype(str)\n",
    "\n",
    "# Selecionar colunas relevantes e criar/transformar features\n",
    "df = df[['name', 'revenue', 'price', 'copiesSold', 'avgPlaytime', 'reviewScore', 'publisherClass','Release Year']] # 'steamId' pode ser útil como ID, mas não como feature\n",
    "df.rename(columns={'revenue': 'Revenue'}, inplace=True) # Padronizar nome da coluna alvo\n",
    "\n",
    "\n",
    "# 3. Tratar valores faltantes (imputação com a mediana para numéricas, mais frequente para categóricas)\n",
    "\n",
    "numerical_features = ['price', 'copiesSold', 'avgPlaytime', 'reviewScore', 'Release Year']\n",
    "categorical_features = ['publisherClass']\n",
    "\n",
    "numeric_transformer = Pipeline(steps=[\n",
    "    ('imputer', SimpleImputer(strategy='median')),\n",
    "    ('scaler', StandardScaler())\n",
    "])\n",
    "\n",
    "categorical_transformer = Pipeline(steps=[\n",
    "    ('imputer', SimpleImputer(strategy='most_frequent')),\n",
    "    ('onehot', OneHotEncoder(handle_unknown='ignore'))\n",
    "])\n",
    "\n",
    "\n",
    "# 4. Dividir em Treino e Teste (antes do pré-processamento final)\n",
    "X = df.drop('Revenue', axis=1)\n",
    "y = df['Revenue']\n",
    "X_train, X_test, y_train, y_test = train_test_split(X, y, test_size=0.2, random_state=42)\n",
    "\n",
    "# Armazenar os nomes dos jogos ANTES do pré-processamento\n",
    "X_train_names = X_train['name']\n",
    "X_test_names = X_test['name']\n",
    "\n",
    "# Remover a coluna 'name' do X_train e X_test para o treinamento do modelo\n",
    "X_train = X_train.drop('name', axis=1)\n",
    "X_test = X_test.drop('name', axis=1)\n",
    "\n",
    "\n",
    "# 5. Pré-processamento com ColumnTransformer (após a divisão treino/teste)\n",
    "preprocessor = ColumnTransformer(\n",
    "    transformers=[\n",
    "        ('num', numeric_transformer, numerical_features),\n",
    "        ('cat', categorical_transformer, categorical_features)\n",
    "    ])\n",
    "\n",
    "# 6. Pipeline do Modelo\n",
    "model = Pipeline(steps=[('preprocessor', preprocessor),\n",
    "                           ('regressor', RandomForestRegressor(random_state=42))])\n",
    "\n",
    "# 7. Treinar o Modelo\n",
    "model.fit(X_train, y_train)\n",
    "\n",
    "\n",
    "# 8. Avaliar o Modelo\n",
    "y_pred = model.predict(X_test)\n",
    "\n",
    "# Criar DataFrames com as previsões e os nomes dos jogos para o conjunto de teste\n",
    "test_comparison = pd.DataFrame({'name': X_test_names, 'Real': y_test, 'Previsto': y_pred})\n",
    "test_comparison = pd.merge(test_comparison, X_test, on=X_test.index).drop(columns=['key_0']).reset_index(drop=True) # Usar .index como chave\n",
    "\n",
    "\n",
    "y_train_pred = model.predict(X_train)\n",
    "# Criar DataFrames com as previsões e os nomes dos jogos para o conjunto de treino\n",
    "train_comparison = pd.DataFrame({'name': X_train_names, 'Real': y_train, 'Previsto': y_train_pred})\n",
    "train_comparison = pd.merge(train_comparison, X_train, on=X_train.index).drop(columns=['key_0']).reset_index(drop=True)  # Usar .index como chave\n",
    "\n",
    "\n",
    "\n",
    "rmse = np.sqrt(mean_squared_error(y_test, y_pred))\n",
    "r2 = r2_score(y_test, y_pred)\n",
    "\n",
    "print(f\"RMSE: {rmse}\")\n",
    "print(f\"R-squared: {r2}\")"
   ]
  },
  {
   "cell_type": "markdown",
   "id": "28867a32-4be6-4e65-84d6-af779276fd54",
   "metadata": {},
   "source": [
    "RMSE: 1177379.5072550725\n",
    "R-squared: 0.9973243302364824"
   ]
  },
  {
   "cell_type": "code",
   "execution_count": 2,
   "id": "723c0d7b-d7f3-4e71-85e1-33f98ec85048",
   "metadata": {},
   "outputs": [
    {
     "name": "stdout",
     "output_type": "stream",
     "text": [
      "\n",
      "Dados de Treino (Amostra):\n",
      "                               name           Real       Previsto  price  \\\n",
      "894                     Kepler-2100   21880.594799   31163.019866   0.00   \n",
      "109   Enishia and the Binding Brand  420150.000000  427860.940000  14.99   \n",
      "129                  Coffee Caravan  276349.000000  277069.110000  11.99   \n",
      "1027           Descending The Woods   26435.000000   27267.440000  18.99   \n",
      "986                       WitchHand  182797.000000  187638.180000  11.99   \n",
      "\n",
      "      copiesSold  avgPlaytime  reviewScore publisherClass  Release Year  \n",
      "894        14511    11.962925           85          Indie           NaN  \n",
      "109        36535     8.334241           89          Indie        2024.0  \n",
      "129        29571     4.877388           92          Indie           NaN  \n",
      "1027        1876     4.116680           54          Indie        2024.0  \n",
      "986        18046    11.343093            0          Indie        2024.0  \n"
     ]
    }
   ],
   "source": [
    "print(\"\\nDados de Treino (Amostra):\")\n",
    "print(train_comparison.sample(5))"
   ]
  },
  {
   "cell_type": "code",
   "execution_count": 3,
   "id": "55e75a46-0067-4f1c-8e4a-ce949917538b",
   "metadata": {},
   "outputs": [
    {
     "name": "stdout",
     "output_type": "stream",
     "text": [
      "\n",
      "Dados de Teste (Amostra):\n",
      "                                      name       Real      Previsto  price  \\\n",
      "196                        IIslands of War    30192.0  2.299400e+04   4.99   \n",
      "172                         Fuck You Witch    65063.0  5.730474e+04   9.99   \n",
      "22   Command & Conquer™ Generals Zero Hour   933938.0  9.446765e+05   0.00   \n",
      "246                IN HEAT: Lustful Nights   397065.0  4.198166e+05  14.99   \n",
      "259                Grocery Store Simulator  1160637.0  1.433379e+06   7.99   \n",
      "\n",
      "     copiesSold  avgPlaytime  reviewScore publisherClass  Release Year  \n",
      "196        3885    11.074408           87          Indie        2024.0  \n",
      "172        8355     0.967395           92          Indie           NaN  \n",
      "22       201644    21.329242           89            AAA        2024.0  \n",
      "246       32781     6.520366           92          Indie           NaN  \n",
      "259      170125    10.295448           95          Indie        2024.0  \n"
     ]
    }
   ],
   "source": [
    "print(\"\\nDados de Teste (Amostra):\")\n",
    "print(test_comparison.sample(5))"
   ]
  }
 ],
 "metadata": {
  "kernelspec": {
   "display_name": "Python 3 (ipykernel)",
   "language": "python",
   "name": "python3"
  },
  "language_info": {
   "codemirror_mode": {
    "name": "ipython",
    "version": 3
   },
   "file_extension": ".py",
   "mimetype": "text/x-python",
   "name": "python",
   "nbconvert_exporter": "python",
   "pygments_lexer": "ipython3",
   "version": "3.10.6"
  }
 },
 "nbformat": 4,
 "nbformat_minor": 5
}
