{
 "cells": [
  {
   "cell_type": "code",
   "execution_count": 1,
   "id": "e3348548-8dc6-4444-b4f4-031673236572",
   "metadata": {},
   "outputs": [
    {
     "name": "stdout",
     "output_type": "stream",
     "text": [
      "RMSE: 1177379.5072550725\n",
      "R-squared: 0.9973243302364824\n"
     ]
    }
   ],
   "source": [
    "import pandas as pd\n",
    "import numpy as np\n",
    "from sklearn.model_selection import train_test_split\n",
    "from sklearn.preprocessing import StandardScaler, OneHotEncoder\n",
    "from sklearn.compose import ColumnTransformer\n",
    "from sklearn.pipeline import Pipeline\n",
    "from sklearn.impute import SimpleImputer\n",
    "from sklearn.ensemble import RandomForestRegressor\n",
    "from sklearn.metrics import mean_squared_error, r2_score\n",
    "\n",
    "# 1. Carregar o Dataset\n",
    "try:\n",
    "    df = pd.read_csv(\"Steam_2024_bestRevenue_1500.csv\")  # Nome correto do arquivo\n",
    "except FileNotFoundError:\n",
    "    print(\"Arquivo não encontrado. Certifique-se de que 'Steam_2024_bestRevenue_1500.csv' está no mesmo diretório.\")\n",
    "    exit()\n",
    "\n",
    "# 2. Limpeza e Pré-processamento\n",
    "\n",
    "# Converter 'releaseDate' para datetime e extrair o ano\n",
    "df['releaseDate'] = pd.to_datetime(df['releaseDate'], errors='coerce')\n",
    "df['Release Year'] = df['releaseDate'].dt.year\n",
    "\n",
    "# Converter publisherClass para string\n",
    "df['publisherClass'] = df['publisherClass'].astype(str)\n",
    "\n",
    "# Selecionar colunas relevantes e criar/transformar features\n",
    "df = df[['name', 'revenue', 'price', 'copiesSold', 'avgPlaytime', 'reviewScore', 'publisherClass','Release Year']] # 'steamId' pode ser útil como ID, mas não como feature\n",
    "df.rename(columns={'revenue': 'Revenue'}, inplace=True) # Padronizar nome da coluna alvo\n",
    "\n",
    "\n",
    "# 3. Tratar valores faltantes (imputação com a mediana para numéricas, mais frequente para categóricas)\n",
    "\n",
    "numerical_features = ['price', 'copiesSold', 'avgPlaytime', 'reviewScore', 'Release Year']\n",
    "categorical_features = ['publisherClass']\n",
    "\n",
    "numeric_transformer = Pipeline(steps=[\n",
    "    ('imputer', SimpleImputer(strategy='median')),\n",
    "    ('scaler', StandardScaler())\n",
    "])\n",
    "\n",
    "categorical_transformer = Pipeline(steps=[\n",
    "    ('imputer', SimpleImputer(strategy='most_frequent')),\n",
    "    ('onehot', OneHotEncoder(handle_unknown='ignore'))\n",
    "])\n",
    "\n",
    "\n",
    "# 4. Dividir em Treino e Teste (antes do pré-processamento final)\n",
    "X = df.drop('Revenue', axis=1)\n",
    "y = df['Revenue']\n",
    "X_train, X_test, y_train, y_test = train_test_split(X, y, test_size=0.2, random_state=42)\n",
    "\n",
    "\n",
    "# 5. Pré-processamento com ColumnTransformer (após a divisão treino/teste)\n",
    "preprocessor = ColumnTransformer(\n",
    "    transformers=[\n",
    "        ('num', numeric_transformer, numerical_features),\n",
    "        ('cat', categorical_transformer, categorical_features)\n",
    "    ])\n",
    "\n",
    "# 6. Pipeline do Modelo\n",
    "model = Pipeline(steps=[('preprocessor', preprocessor),\n",
    "                           ('regressor', RandomForestRegressor(random_state=42))])\n",
    "\n",
    "# 7. Treinar o Modelo\n",
    "model.fit(X_train, y_train)\n",
    "\n",
    "\n",
    "# 8. Avaliar o Modelo\n",
    "y_pred = model.predict(X_test)\n",
    "rmse = np.sqrt(mean_squared_error(y_test, y_pred))\n",
    "r2 = r2_score(y_test, y_pred)\n",
    "\n",
    "print(f\"RMSE: {rmse}\")\n",
    "print(f\"R-squared: {r2}\")"
   ]
  },
  {
   "cell_type": "markdown",
   "id": "28867a32-4be6-4e65-84d6-af779276fd54",
   "metadata": {},
   "source": [
    "RMSE: 1177379.5072550725\n",
    "R-squared: 0.9973243302364824"
   ]
  },
  {
   "cell_type": "code",
   "execution_count": 2,
   "id": "723c0d7b-d7f3-4e71-85e1-33f98ec85048",
   "metadata": {},
   "outputs": [
    {
     "name": "stdout",
     "output_type": "stream",
     "text": [
      "Dados de Treinamento (Amostra):\n",
      "           Real      Previsto\n",
      "1275   623473.0  6.356204e+05\n",
      "357     92662.0  8.830191e+04\n",
      "498     65249.0  6.287006e+04\n",
      "810     38560.0  3.856990e+04\n",
      "569   2547970.0  2.506361e+06\n",
      "445     72453.0  9.862705e+04\n",
      "1072    21703.0  2.288240e+04\n",
      "749     42896.0  6.278959e+05\n",
      "1396   328150.0  3.356028e+05\n",
      "1151  1269633.0  1.555629e+06\n",
      "           Real      Previsto\n",
      "596   1913709.0  2.314221e+06\n",
      "618     57371.0  5.388385e+04\n",
      "231    134579.0  1.160818e+05\n",
      "1085    21168.0  2.382729e+04\n",
      "430     74140.0  7.310437e+04\n",
      "941     28483.0  2.536238e+04\n",
      "1084    21260.0  2.361618e+04\n",
      "1231   787339.0  7.291660e+05\n",
      "1448   264829.0  2.360493e+05\n",
      "1312   478599.0  4.012174e+05\n"
     ]
    }
   ],
   "source": [
    "y_train_pred = model.predict(X_train)\n",
    "\n",
    "print(\"Dados de Treinamento (Amostra):\")\n",
    "train_comparison = pd.DataFrame({'Real': y_train, 'Previsto': y_train_pred})\n",
    "print(train_comparison.sample(10))  # Imprime 10 amostras print(\"\\nDados de Teste (Amostra):\")\n",
    "test_comparison = pd.DataFrame({'Real': y_test, 'Previsto': y_pred})\n",
    "print(test_comparison.sample(10))"
   ]
  },
  {
   "cell_type": "code",
   "execution_count": 3,
   "id": "55e75a46-0067-4f1c-8e4a-ce949917538b",
   "metadata": {},
   "outputs": [
    {
     "name": "stdout",
     "output_type": "stream",
     "text": [
      "\n",
      "Dados de Teste (Amostra):\n",
      "            Real      Previsto\n",
      "1065     22014.0  2.691105e+04\n",
      "930      29094.0  2.878304e+04\n",
      "1419    301311.0  2.745002e+05\n",
      "1425    290153.0  4.548544e+05\n",
      "432      73926.0  5.996273e+04\n",
      "481      67473.0  5.848962e+04\n",
      "1466  34530561.0  4.849152e+07\n",
      "81      230628.0  2.336242e+05\n",
      "1050     22581.0  2.301338e+04\n",
      "1284    597802.0  5.431338e+05\n"
     ]
    }
   ],
   "source": [
    "print(\"\\nDados de Teste (Amostra):\")\n",
    "test_comparison = pd.DataFrame({'Real': y_test, 'Previsto': y_pred})\n",
    "print(test_comparison.sample(10))"
   ]
  }
 ],
 "metadata": {
  "kernelspec": {
   "display_name": "Python 3 (ipykernel)",
   "language": "python",
   "name": "python3"
  },
  "language_info": {
   "codemirror_mode": {
    "name": "ipython",
    "version": 3
   },
   "file_extension": ".py",
   "mimetype": "text/x-python",
   "name": "python",
   "nbconvert_exporter": "python",
   "pygments_lexer": "ipython3",
   "version": "3.10.6"
  }
 },
 "nbformat": 4,
 "nbformat_minor": 5
}
